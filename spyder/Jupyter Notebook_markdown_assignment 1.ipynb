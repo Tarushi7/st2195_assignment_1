{
 "cells": [
  {
   "cell_type": "markdown",
   "id": "6ec362db",
   "metadata": {},
   "source": [
    "# Assignment 1\n",
    "\n",
    "## introductory comments:\n",
    "\n",
    "This is created in Jupyter notebook for assignment 1 of my programming module. A few things I have learnt about markdown are listed below:\n",
    "\n",
    "- this is how we **bold**\n",
    "- this is how we use *italics*\n",
    "\n"
   ]
  },
  {
   "cell_type": "markdown",
   "id": "227edbdf",
   "metadata": {},
   "source": [
    "### Code from part 3 of the assignment:\n",
    "\n",
    "integers = 12345678910\n",
    "print(integers)\n",
    "\n",
    "my_string = '1 2 3 4 5 6 7 8 9 10'\n",
    "print(my_string)\n",
    "\n",
    "\n",
    "for all in my_string:\n",
    "    print(all)\n",
    "    \n",
    "    "
   ]
  },
  {
   "cell_type": "code",
   "execution_count": 1,
   "id": "9a6d1077",
   "metadata": {},
   "outputs": [
    {
     "name": "stdout",
     "output_type": "stream",
     "text": [
      "12345678910\n",
      "1 2 3 4 5 6 7 8 9 10\n",
      "1\n",
      " \n",
      "2\n",
      " \n",
      "3\n",
      " \n",
      "4\n",
      " \n",
      "5\n",
      " \n",
      "6\n",
      " \n",
      "7\n",
      " \n",
      "8\n",
      " \n",
      "9\n",
      " \n",
      "1\n",
      "0\n"
     ]
    }
   ],
   "source": [
    "#in code:\n",
    "\n",
    "integers = 12345678910\n",
    "print(integers)\n",
    "\n",
    "my_string = '1 2 3 4 5 6 7 8 9 10'\n",
    "print(my_string)\n",
    "\n",
    "\n",
    "for all in my_string:\n",
    "    print(all)"
   ]
  },
  {
   "cell_type": "code",
   "execution_count": null,
   "id": "f42c0c30",
   "metadata": {},
   "outputs": [],
   "source": []
  }
 ],
 "metadata": {
  "kernelspec": {
   "display_name": "Python 3 (ipykernel)",
   "language": "python",
   "name": "python3"
  },
  "language_info": {
   "codemirror_mode": {
    "name": "ipython",
    "version": 3
   },
   "file_extension": ".py",
   "mimetype": "text/x-python",
   "name": "python",
   "nbconvert_exporter": "python",
   "pygments_lexer": "ipython3",
   "version": "3.10.9"
  }
 },
 "nbformat": 4,
 "nbformat_minor": 5
}
